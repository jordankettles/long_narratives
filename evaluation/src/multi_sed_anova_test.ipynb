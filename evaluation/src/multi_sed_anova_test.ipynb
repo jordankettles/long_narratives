{
 "cells": [
  {
   "cell_type": "code",
   "execution_count": 16,
   "metadata": {},
   "outputs": [
    {
     "name": "stdout",
     "output_type": "stream",
     "text": [
      "Barthes: chapter level results.\n",
      "ANOVA P Value: 0.4126340000332994 < 0.05 = False\n",
      "Barthes: book level results.\n",
      "ANOVA P Value: 3.832760432901016e-06 < 0.05 = True\n",
      "T test P Value: 0.021788250721753274 < 0.05 = True.\n",
      "There is a significant difference between each and concat.\n",
      "T test P Value: 1.00974656549654e-07 < 0.05 = True.\n",
      "There is a significant difference between each and threshold.\n",
      "T test P Value: 1.6360769468445884e-07 < 0.05 = True.\n",
      "There is a significant difference between concat and threshold.\n",
      "Presumm: chapter level results.\n",
      "ANOVA P Value: 0.6347161111235158 < 0.05 = False\n",
      "Presumm: book level results.\n",
      "ANOVA P Value: 0.05382649930726241 < 0.05 = False\n"
     ]
    }
   ],
   "source": [
    "from operator import concat\n",
    "from scipy import stats\n",
    "import json\n",
    "import os\n",
    "import pandas as pd\n",
    "import matplotlib.pyplot as plt\n",
    "models = ['barthes', 'presumm']\n",
    "levels = ['chapter', 'book']\n",
    "\n",
    "# Read data\n",
    "\n",
    "for model in models:\n",
    "    for level in levels:\n",
    "\n",
    "        print(\"{}: {} level results.\".format(model.capitalize(), level))\n",
    "\n",
    "        each_data = pd.read_csv('../csv_results/' + model + '/' + model + '-booksum-' + level + '-k3-each-test-results.csv')\n",
    "        concat_data = pd.read_csv('../csv_results/' + model + '/' + model + '-booksum-' + level + '-k3-concat-test-results.csv')\n",
    "        threshold_data = pd.read_csv('../csv_results/' + model + '/' + model + '-booksum-' + level + '-test-results.csv')\n",
    "\n",
    "        statistic, pvalue = stats.f_oneway(each_data['f1'], concat_data['f1'], threshold_data['f1'])\n",
    "        print(\"ANOVA P Value: {} < 0.05 = {}\".format(\n",
    "                pvalue, str(pvalue < 0.05)))\n",
    "\n",
    "        if pvalue < 0.05:\n",
    "            # Run a paired t test between all of them.\n",
    "            # print(\"Running a paired t test between all of them.\")\n",
    "            statistic, e_c_pvalue = stats.ttest_rel(each_data['f1'], concat_data['f1'])\n",
    "            print(\"T test P Value: {} < 0.05 = {}.\".format(e_c_pvalue, str(e_c_pvalue < 0.05)))\n",
    "            if e_c_pvalue < 0.05:\n",
    "                print(\"There is a significant difference between each and concat.\")\n",
    "            else:\n",
    "                print(\"There is no significant difference between each and concat.\")\n",
    "            statistic, e_t_pvalue = stats.ttest_rel(each_data['f1'], threshold_data['f1'])\n",
    "            print(\"T test P Value: {} < 0.05 = {}.\".format(e_t_pvalue, str(e_t_pvalue < 0.05)))\n",
    "            if e_t_pvalue < 0.05:\n",
    "                print(\"There is a significant difference between each and threshold.\")\n",
    "            else:\n",
    "                print(\"There is no significant difference between each and threshold.\")\n",
    "            statistic, c_t_pvalue = stats.ttest_rel(concat_data['f1'], threshold_data['f1'])\n",
    "            print(\"T test P Value: {} < 0.05 = {}.\".format(c_t_pvalue, str(c_t_pvalue < 0.05)))\n",
    "            if c_t_pvalue < 0.05:\n",
    "                print(\"There is a significant difference between concat and threshold.\")\n",
    "            else:\n",
    "                print(\"There is no significant difference between concat and threshold.\")\n",
    "\n",
    "\n"
   ]
  }
 ],
 "metadata": {
  "kernelspec": {
   "display_name": "Python 3.7.13 ('propplearning')",
   "language": "python",
   "name": "python3"
  },
  "language_info": {
   "codemirror_mode": {
    "name": "ipython",
    "version": 3
   },
   "file_extension": ".py",
   "mimetype": "text/x-python",
   "name": "python",
   "nbconvert_exporter": "python",
   "pygments_lexer": "ipython3",
   "version": "3.7.13"
  },
  "orig_nbformat": 4,
  "vscode": {
   "interpreter": {
    "hash": "df843f0033f0fc4f9ece2db4e2a4dc561c6c31e6f7b92fa79e956125c41b1bc1"
   }
  }
 },
 "nbformat": 4,
 "nbformat_minor": 2
}
