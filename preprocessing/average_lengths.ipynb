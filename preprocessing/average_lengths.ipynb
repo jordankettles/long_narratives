{
 "cells": [
  {
   "cell_type": "code",
   "execution_count": 28,
   "metadata": {},
   "outputs": [],
   "source": [
    "import numpy as np\n",
    "import matplotlib.pyplot as plt\n",
    "import os\n",
    "from glob import glob\n",
    "import pandas as pd\n",
    "import json\n",
    "import pathlib\n",
    "\n",
    "def get_book_data(line):\n",
    "\tcontent = json.loads(line)\n",
    "\treturn {\n",
    "        'book_id': content['title'].replace(\" \", \"_\").lower(),\n",
    "        'source': content['source']\n",
    "    }\n",
    "\n",
    "def get_chapter_data(line):\n",
    "    chapter = json.loads(line)\n",
    "    return {\n",
    "        'book_id': chapter['book_id'].replace(\" \", \"_\").lower(),\n",
    "        'source': chapter['source']\n",
    "    }\n",
    "\n",
    "def plot_test_lengths():\n",
    "\n",
    "    chapters_test_split = open(pathlib.Path(\"../booksum/alignments/chapter-level-summary-alignments/chapter_summary_aligned_test_split.jsonl\"), \\\n",
    "     encoding='utf-8')\n",
    "    chapters_data = [get_chapter_data(line) for line in chapters_test_split]\n",
    "\n",
    "    booksum_book_test_split = open(pathlib.Path(\"../booksum/alignments/book-level-summary-alignments/book_summaries_aligned_test.jsonl\"), \\\n",
    "     encoding='utf-8')\n",
    "    booksum_data = [get_book_data(line) for line in booksum_book_test_split]\n",
    "\n",
    "    nyt_path_list = glob(os.path.normpath(\"processed_data/presumm/nyt/test/\") + \"/*\")\n",
    "    booksum_path_list = glob(os.path.normpath(\"processed_data/presumm/booksum/test/\") + \"/*\")\n",
    "    propp_learner_path_list = glob(os.path.normpath(\"processed_data/presumm/propp_learner/test/\") + \"/*\")\n",
    "    turning_point_path_list = glob(os.path.normpath(\"processed_data/presumm/turning_point/test/\") + \"/*\")\n",
    "    print(\"Evaluating {} NYT files\".format(len(nyt_path_list)))\n",
    "    print(\"And evaluating {} BookSum files\".format(len(booksum_path_list)))\n",
    "    print(\"And evaluating {} ProppLearner files\".format(len(propp_learner_path_list)))\n",
    "    print(\"And evaluating {} Turning Point files\".format(len(turning_point_path_list)))\n",
    "\n",
    "    nyt_lengths = []\n",
    "    booksum_lengths = []\n",
    "    propp_learner_lengths = []\n",
    "    turning_point_lengths = []\n",
    "\n",
    "    # for book in booksum_data:\n",
    "    #     book_length = 0\n",
    "    #     chapters = [x for x in chapters_data if x['book_id'].split('.')[0] == book[\"book_id\"] and x['source'] == book[\"source\"]]\n",
    "    #     #print(\"Book: {} has {} chapters\".format(book[\"book_id\"], len(chapters)))\n",
    "    #     for chapter in chapters:\n",
    "    #         paragraph_paths = glob(os.path.normpath(\"processed_data/presumm/booksum/test/tp.\" + chapter['book_id'] + \".\" + chapter['source'] + \"*\"))\n",
    "    #         for path in paragraph_paths:\n",
    "    #             j = json.load(open(path))\n",
    "    #             book_length += len(j[\"src\"])\n",
    "    #     booksum_lengths.append(book_length)\n",
    "\n",
    "    # print(\"BookSum average length: {}\".format(np.mean(booksum_lengths)))                 \n",
    "\n",
    "    for result_file_path in nyt_path_list:\n",
    "        j = json.load(open(result_file_path))\n",
    "        nyt_lengths.append(len(j[\"src\"]))\n",
    "   \n",
    "    \n",
    "    for result_file_path in propp_learner_path_list:\n",
    "        j = json.load(open(result_file_path))\n",
    "        propp_learner_lengths.append(len(j[\"src\"]))\n",
    "\n",
    "    for result_file_path in turning_point_path_list:\n",
    "        j = json.load(open(result_file_path))\n",
    "        turning_point_lengths.append(len(j[\"src\"]))\n",
    "\n",
    "    graph_title = \"Mean Lengths of Documents in Test Set\"\n",
    "    booksum_length = 1816.5652173913043\n",
    "    nyt_length = np.mean(nyt_lengths)\n",
    "    propp_learner_length = np.mean(propp_learner_lengths)\n",
    "    turning_point_length = np.mean(turning_point_lengths)\n",
    "    lengths = [nyt_length, propp_learner_length, turning_point_length, booksum_length]\n",
    "    datasets = [\"NYT\",\"ProppLearner\",\"Turning Point\",\"BookSum\"]\n",
    "    plt.bar(datasets, lengths)\n",
    "    plt.bar_label(plt.gca().containers[0], labels=[round(x) for x in lengths])\n",
    "    plt.ylabel(\"Length (Sentences)\")\n",
    "    plt.title(graph_title)\n",
    "    plt.savefig(\"datasetaveragelengths.pdf\")"
   ]
  },
  {
   "cell_type": "code",
   "execution_count": 29,
   "metadata": {},
   "outputs": [
    {
     "name": "stdout",
     "output_type": "stream",
     "text": [
      "Evaluating 4321 NYT files\n",
      "And evaluating 13851 BookSum files\n",
      "And evaluating 9 ProppLearner files\n",
      "And evaluating 9 Turning Point files\n"
     ]
    },
    {
     "data": {
      "image/png": "[encoded data removed]",
      "text/plain": [
       "<Figure size 432x288 with 1 Axes>"
      ]
     },
     "metadata": {
      "needs_background": "light"
     },
     "output_type": "display_data"
    }
   ],
   "source": [
    "plot_test_lengths()"
   ]
  }
 ],
 "metadata": {
  "interpreter": {
   "hash": "df843f0033f0fc4f9ece2db4e2a4dc561c6c31e6f7b92fa79e956125c41b1bc1"
  },
  "kernelspec": {
   "display_name": "Python 3.7.13 ('propplearning')",
   "language": "python",
   "name": "python3"
  },
  "language_info": {
   "codemirror_mode": {
    "name": "ipython",
    "version": 3
   },
   "file_extension": ".py",
   "mimetype": "text/x-python",
   "name": "python",
   "nbconvert_exporter": "python",
   "pygments_lexer": "ipython3",
   "version": "3.7.13"
  },
  "orig_nbformat": 4
 },
 "nbformat": 4,
 "nbformat_minor": 2
}
